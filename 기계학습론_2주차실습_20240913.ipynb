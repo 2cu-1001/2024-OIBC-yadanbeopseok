{
  "nbformat": 4,
  "nbformat_minor": 0,
  "metadata": {
    "colab": {
      "provenance": [],
      "collapsed_sections": [
        "EI6_tgymOs2Y"
      ],
      "include_colab_link": true
    },
    "kernelspec": {
      "name": "python3",
      "display_name": "Python 3"
    },
    "language_info": {
      "name": "python"
    }
  },
  "cells": [
    {
      "cell_type": "markdown",
      "metadata": {
        "id": "view-in-github",
        "colab_type": "text"
      },
      "source": [
        "<a href=\"https://colab.research.google.com/github/2cu-1001/2024-OIBC-yadanbeopseok/blob/main/%EA%B8%B0%EA%B3%84%ED%95%99%EC%8A%B5%EB%A1%A0_2%EC%A3%BC%EC%B0%A8%EC%8B%A4%EC%8A%B5_20240913.ipynb\" target=\"_parent\"><img src=\"https://colab.research.google.com/assets/colab-badge.svg\" alt=\"Open In Colab\"/></a>"
      ]
    },
    {
      "cell_type": "markdown",
      "source": [
        "# **기계학습론 2주차실습**"
      ],
      "metadata": {
        "id": "KwTjjMLroet2"
      }
    },
    {
      "cell_type": "markdown",
      "source": [
        "##[목차]\n",
        "\n",
        "1.   Python 기초\n",
        "\n",
        "\n",
        "\n",
        "> - Data Types\n",
        "\n",
        "\n",
        "\n",
        "> - if문 ,for문, while문\n",
        "\n",
        "\n",
        "> - list comprehension\n",
        "\n",
        "\n",
        "\n",
        "\n",
        "2.   한 번 해보기(실습)\n",
        "\n"
      ],
      "metadata": {
        "id": "DAvxhxP5okhX"
      }
    },
    {
      "cell_type": "markdown",
      "source": [
        " ## 1. **Python 기초 Data Types**\n",
        " >- 숫자형 data type\n",
        ">> - int\n",
        " >>- float\n",
        " >- 문자형 data type\n",
        " >>- str\n",
        " >- 복합 data type\n",
        " >>- list(리스트)\n",
        " >>- set(집합)\n",
        " >>- tuple(튜플)\n",
        " >>- dictionary(딕셔너리)"
      ],
      "metadata": {
        "id": "l-CCitViovKP"
      }
    },
    {
      "cell_type": "markdown",
      "source": [
        "### 숫자형 data type"
      ],
      "metadata": {
        "id": "-VCAIrKGvdhI"
      }
    },
    {
      "cell_type": "code",
      "source": [
        "x = 10 # 변수 x에 10이라는 값을 할당"
      ],
      "metadata": {
        "id": "P6yEs5_zvbz-"
      },
      "execution_count": null,
      "outputs": []
    },
    {
      "cell_type": "code",
      "source": [
        "print('x라는 변수에 할당된 값은', x, ', x의 데이터 타입은', type(x))"
      ],
      "metadata": {
        "id": "SihBal080z_u",
        "colab": {
          "base_uri": "https://localhost:8080/"
        },
        "outputId": "2fe79f1e-6eb6-4d17-bb2c-e06b0df04b88"
      },
      "execution_count": null,
      "outputs": [
        {
          "output_type": "stream",
          "name": "stdout",
          "text": [
            "x라는 변수에 할당된 값은 10 , x의 데이터 타입은 <class 'int'>\n"
          ]
        }
      ]
    },
    {
      "cell_type": "markdown",
      "source": [
        "간단한 사칙 연산"
      ],
      "metadata": {
        "id": "imVQ_BZA1Oci"
      }
    },
    {
      "cell_type": "markdown",
      "source": [
        "####  int type(정수형)"
      ],
      "metadata": {
        "id": "aEpZaie2CILQ"
      }
    },
    {
      "cell_type": "code",
      "source": [
        "x = 5\n",
        "y = 3"
      ],
      "metadata": {
        "id": "_mZN9qlI1Ru9"
      },
      "execution_count": null,
      "outputs": []
    },
    {
      "cell_type": "code",
      "source": [
        "print('x + y =', x + y, ', 데이터 타입은', type(x + y)) # 덧셈\n",
        "print('x - y =', x - y, ', 데이터 타입은', type(x - y)) # 뺄셈\n",
        "print('x * y =', x * y, ', 데이터 타입은', type(x * y)) # 곱셈\n",
        "print('x / y =', x / y, ', 데이터 타입은', type(x / y)) # 나눗셈 -> 자동 형변환\n",
        "print('x % y =', x % y, ', 데이터 타입은', type(x ** 2)) # 나머지\n",
        "print('x // y =', x // y, ', 데이터 타입은', type(x ** 2)) # 몫\n",
        "print('x ** 4 =', x ** 4, ', 데이터 타입은', type(x ** 4)) # 제곱"
      ],
      "metadata": {
        "id": "Dbwz82I81sMu",
        "colab": {
          "base_uri": "https://localhost:8080/"
        },
        "outputId": "58846036-4da5-405e-d5ce-b5ab5962f706"
      },
      "execution_count": null,
      "outputs": [
        {
          "output_type": "stream",
          "name": "stdout",
          "text": [
            "x + y = 8 , 데이터 타입은 <class 'int'>\n",
            "x - y = 2 , 데이터 타입은 <class 'int'>\n",
            "x * y = 15 , 데이터 타입은 <class 'int'>\n",
            "x / y = 1.6666666666666667 , 데이터 타입은 <class 'float'>\n",
            "x % y = 2 , 데이터 타입은 <class 'int'>\n",
            "x // y = 1 , 데이터 타입은 <class 'int'>\n",
            "x ** 4 = 625 , 데이터 타입은 <class 'int'>\n"
          ]
        }
      ]
    },
    {
      "cell_type": "markdown",
      "source": [
        "#### float type(실수형)"
      ],
      "metadata": {
        "id": "L-E43j9pCasj"
      }
    },
    {
      "cell_type": "code",
      "source": [
        "x = 5.\n",
        "y = 3.\n",
        "\n",
        "print('x라는 변수에 할당된 값은', x, ', x의 데이터 타입은', type(x))\n",
        "print('y라는 변수에 할당된 값은', y, ', y의 데이터 타입은', type(y))"
      ],
      "metadata": {
        "id": "UlZwOibV7MR2",
        "colab": {
          "base_uri": "https://localhost:8080/"
        },
        "outputId": "2706e4eb-0968-43d9-8408-57bb3be1d4e1"
      },
      "execution_count": null,
      "outputs": [
        {
          "output_type": "stream",
          "name": "stdout",
          "text": [
            "x라는 변수에 할당된 값은 5.0 , x의 데이터 타입은 <class 'float'>\n",
            "y라는 변수에 할당된 값은 3.0 , y의 데이터 타입은 <class 'float'>\n"
          ]
        }
      ]
    },
    {
      "cell_type": "code",
      "source": [
        "print('x + y =', x + y, ', 데이터 타입은', type(x + y)) # 덧셈\n",
        "print('x - y =', x - y, ', 데이터 타입은', type(x - y)) # 뺄셈\n",
        "print('x * y =', x * y, ', 데이터 타입은', type(x * y)) # 곱셈\n",
        "print('x / y =', x / y, ', 데이터 타입은', type(x / y)) # 나눗셈\n",
        "print('x % y =', x % y, ', 데이터 타입은', type(x ** 2)) # 나머지\n",
        "print('x // y =', x // y, ', 데이터 타입은', type(x ** 2)) # 몫\n",
        "print('x ** 2 =', x ** 2, ', 데이터 타입은', type(x ** 2)) # 제곱"
      ],
      "metadata": {
        "id": "GBnSlp6O7Ore",
        "colab": {
          "base_uri": "https://localhost:8080/"
        },
        "outputId": "758e7b31-833a-453f-84a5-b3bc0ff37c5d"
      },
      "execution_count": null,
      "outputs": [
        {
          "output_type": "stream",
          "name": "stdout",
          "text": [
            "x + y = 8.0 , 데이터 타입은 <class 'float'>\n",
            "x - y = 2.0 , 데이터 타입은 <class 'float'>\n",
            "x * y = 15.0 , 데이터 타입은 <class 'float'>\n",
            "x / y = 1.6666666666666667 , 데이터 타입은 <class 'float'>\n",
            "x % y = 2.0 , 데이터 타입은 <class 'float'>\n",
            "x // y = 1.0 , 데이터 타입은 <class 'float'>\n",
            "x ** 2 = 25.0 , 데이터 타입은 <class 'float'>\n"
          ]
        }
      ]
    },
    {
      "cell_type": "markdown",
      "source": [
        "#### String\n",
        " > string method:\n",
        " - len(str) : 문자열 길이 출력\n",
        " - split() : 해당문자를 기준으로 나눠진 리스트 반환\n",
        " - rstrip():  문자열 가장 오른쪽에 있는 공백제거\n",
        " - replace() : 문자열 내부에 있는 문자열 교체\n",
        " -join() : 문자열을 구분으로 하여 문자열 연결\n"
      ],
      "metadata": {
        "id": "qIsXTtiJvUyy"
      }
    },
    {
      "cell_type": "code",
      "source": [
        "hello = 'hello,hi'\n",
        "\n",
        "print(hello)\n",
        "print('변수 hello 에 할당된 데이터 타입은', type(hello), '입니다.')"
      ],
      "metadata": {
        "id": "aDaScaU-vSem",
        "colab": {
          "base_uri": "https://localhost:8080/"
        },
        "outputId": "63827c07-24ed-40ac-99c8-01ee453b8166"
      },
      "execution_count": null,
      "outputs": [
        {
          "output_type": "stream",
          "name": "stdout",
          "text": [
            "hello,hi\n",
            "변수 hello 에 할당된 데이터 타입은 <class 'str'> 입니다.\n"
          ]
        }
      ]
    },
    {
      "cell_type": "markdown",
      "source": [
        "문자열의 각각의 값은 문자열로 인식!\n",
        "\n",
        "\n",
        "![image.png](data:image/png;base64,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)"
      ],
      "metadata": {
        "id": "waShw0yqECUd"
      }
    },
    {
      "cell_type": "code",
      "source": [
        "print(f\"hello[0]: {hello[0]}\")\n",
        "print(f\"hello[1]: {hello[1]}\")\n",
        "print(f\"hello[2]: {hello[2]}\")\n",
        "print(f\"hello[3]: {hello[3]}\")\n",
        "print(f\"hello[4]: {hello[4]}\")\n",
        "print(f\"hello[5]: {hello[5]}\")\n",
        "print(f\"hello[6]: {hello[6]}\")\n",
        "print(f\"hello[7]: {hello[7]}\")\n",
        "print(\"문자열 hello의 길이는\",len(hello),\"입니다.\")"
      ],
      "metadata": {
        "id": "cNii-WoBLNbC",
        "colab": {
          "base_uri": "https://localhost:8080/"
        },
        "outputId": "e418e382-831c-4c16-a545-6cf68c4bb59f"
      },
      "execution_count": null,
      "outputs": [
        {
          "output_type": "stream",
          "name": "stdout",
          "text": [
            "hello[0]: h\n",
            "hello[1]: e\n",
            "hello[2]: l\n",
            "hello[3]: l\n",
            "hello[4]: o\n",
            "hello[5]: ,\n",
            "hello[6]: h\n",
            "hello[7]: i\n",
            "문자열 hello의 길이는 8 입니다.\n"
          ]
        }
      ]
    },
    {
      "cell_type": "code",
      "source": [
        "print(f\"hello[-8]: {hello[-8]}\")\n",
        "print(f\"hello[-7]: {hello[-7]}\")\n",
        "print(f\"hello[-6]: {hello[-6]}\")\n",
        "print(f\"hello[-5]: {hello[-5]}\")\n",
        "print(f\"hello[-4]: {hello[-4]}\")\n",
        "print(f\"hello[-3]: {hello[-3]}\")\n",
        "print(f\"hello[-2]: {hello[-2]}\")\n",
        "print(f\"hello[-1]: {hello[-1]}\")\n",
        "print(\"문자열 hello의 길이는\",len(hello),\"입니다.\")"
      ],
      "metadata": {
        "colab": {
          "base_uri": "https://localhost:8080/"
        },
        "id": "jqtLVDgN0_Ur",
        "outputId": "bf5f0106-9422-4676-d8e6-66f569933fc4"
      },
      "execution_count": null,
      "outputs": [
        {
          "output_type": "stream",
          "name": "stdout",
          "text": [
            "hello[-8]: h\n",
            "hello[-7]: e\n",
            "hello[-6]: l\n",
            "hello[-5]: l\n",
            "hello[-4]: o\n",
            "hello[-3]: ,\n",
            "hello[-2]: h\n",
            "hello[-1]: i\n",
            "문자열 hello의 길이는 8 입니다.\n"
          ]
        }
      ]
    },
    {
      "cell_type": "code",
      "source": [
        "print(hello)\n",
        "split_hello=hello.split(\",\") # hello 변수에 있는 문자열을 , 를 기준으로 나누기\n",
        "print(split_hello) # 리스트로 반환됩니다.\n",
        "merge_hello=\",\".join(split_hello) # 리스트 split_hello의 요소들을 쉼표(,)로 다시 합쳐 하나의 문자열로 반환합니다.\n",
        "print(merge_hello) # 다시 합쳐 하나의 문자열로 반환합니다."
      ],
      "metadata": {
        "id": "a7OsFQ2zK-Wo",
        "colab": {
          "base_uri": "https://localhost:8080/"
        },
        "outputId": "d0c19cbc-5296-4fd1-bb7b-5e12f932be33"
      },
      "execution_count": null,
      "outputs": [
        {
          "output_type": "stream",
          "name": "stdout",
          "text": [
            "hello,hi\n",
            "['hello', 'hi']\n",
            "hello,hi\n"
          ]
        }
      ]
    },
    {
      "cell_type": "markdown",
      "source": [
        "#### List(리스트)"
      ],
      "metadata": {
        "id": "W7IXyTTnvk6Q"
      }
    },
    {
      "cell_type": "markdown",
      "source": [
        "list ▶ 다른 프로그래밍 언어(C)들에서 배열(array)와 유사한 데이터 타입\n",
        ">list method:\n",
        "- append(): 리스트의 맨 뒤에 요소 추가\n",
        "- remove(): 리스트내부에 있는 요소 제거\n",
        "- pop(): 리스트 맨 뒤에 요소 반환 후 제거\n",
        "- index(): 요소에 해당하는 인덱스 반환\n",
        "- extend(): 리스트 연결\n",
        "- insert(): index에 해당하는 요소 삽입\n",
        "- sort(): 리스트 내부 정렬\n",
        "- reverse(): 리스트 정렬 순서 뒤집음\n",
        "\n",
        "\n",
        "\n"
      ],
      "metadata": {
        "id": "TJOHXeapwUYf"
      }
    },
    {
      "cell_type": "markdown",
      "source": [
        "![image.png](data:image/png;base64,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)"
      ],
      "metadata": {
        "id": "dVC_Vq1NGng_"
      }
    },
    {
      "cell_type": "code",
      "source": [
        "a = [] # 빈 리스트 생성\n",
        "\n",
        "print(a, type(a))"
      ],
      "metadata": {
        "id": "XTc8mU77GYAj",
        "colab": {
          "base_uri": "https://localhost:8080/"
        },
        "outputId": "d7c81532-8977-4397-dcac-c97fdd033af7"
      },
      "execution_count": null,
      "outputs": [
        {
          "output_type": "stream",
          "name": "stdout",
          "text": [
            "[] <class 'list'>\n"
          ]
        }
      ]
    },
    {
      "cell_type": "code",
      "source": [
        "a.append(10) # 요소 10 추가\n",
        "a.append(20) # 요소 20 추가\n",
        "a.append(30) # 요소 30 추가\n",
        "a.append(40) # 요소 40 추가\n",
        "a.append(50) # 요소 50 추가\n",
        "print(a)"
      ],
      "metadata": {
        "id": "jvi2YEjdaWNO",
        "colab": {
          "base_uri": "https://localhost:8080/"
        },
        "outputId": "de89cff3-fca6-4811-9893-43ec60ff4b06"
      },
      "execution_count": null,
      "outputs": [
        {
          "output_type": "stream",
          "name": "stdout",
          "text": [
            "[10, 20, 30, 40, 50]\n"
          ]
        }
      ]
    },
    {
      "cell_type": "code",
      "source": [
        "a.remove(10) # 요소 10 제거\n",
        "a.remove(20) # 요소 20 제거\n",
        "a.remove(30) # 요소 30 제거\n",
        "a.remove(40) # 요소 40 제거\n",
        "a.remove(50) # 요소 50 제거\n",
        "print(a)"
      ],
      "metadata": {
        "id": "7ABvYtbfFHkj",
        "colab": {
          "base_uri": "https://localhost:8080/"
        },
        "outputId": "95dbd9bc-1e91-4133-9767-9578ba6b7431"
      },
      "execution_count": null,
      "outputs": [
        {
          "output_type": "stream",
          "name": "stdout",
          "text": [
            "[]\n"
          ]
        }
      ]
    },
    {
      "cell_type": "markdown",
      "source": [
        " - list 각 요소의 데이터 타입을 다르게 해서 생성이 가능, 리스트 안에 또 다른 리스트를 포함시킬 수 있습니다. 모든 데이터 타입이 입력가능함."
      ],
      "metadata": {
        "id": "aBDe7NK-HHHm"
      }
    },
    {
      "cell_type": "markdown",
      "source": [
        "![image.png](data:image/png;base64,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)"
      ],
      "metadata": {
        "id": "QeOvzBz_HxJp"
      }
    },
    {
      "cell_type": "code",
      "source": [
        "b = [10, 20, 'Hi', [True, 5.5]]\n",
        "print(b)"
      ],
      "metadata": {
        "id": "6n2wA3EpHAc1",
        "colab": {
          "base_uri": "https://localhost:8080/"
        },
        "outputId": "355049bd-00fa-4c41-c5f0-e37da7d5738a"
      },
      "execution_count": null,
      "outputs": [
        {
          "output_type": "stream",
          "name": "stdout",
          "text": [
            "[10, 20, 'Hi', [True, 5.5]]\n"
          ]
        }
      ]
    },
    {
      "cell_type": "code",
      "source": [
        "print(type(b[0]))\n",
        "print(type(b[1]))\n",
        "print(type(b[2]))\n",
        "print(type(b[3]))\n",
        "print(b[3])"
      ],
      "metadata": {
        "id": "KEC0hpSTHAR7",
        "colab": {
          "base_uri": "https://localhost:8080/"
        },
        "outputId": "0e0938c8-2985-43e3-f9e0-2f92fc8816bc"
      },
      "execution_count": null,
      "outputs": [
        {
          "output_type": "stream",
          "name": "stdout",
          "text": [
            "<class 'int'>\n",
            "<class 'int'>\n",
            "<class 'str'>\n",
            "<class 'list'>\n",
            "[True, 5.5]\n"
          ]
        }
      ]
    },
    {
      "cell_type": "markdown",
      "source": [
        "list의 연산"
      ],
      "metadata": {
        "id": "LS_CkOH2Ie0T"
      }
    },
    {
      "cell_type": "code",
      "source": [
        "list_a = [10, 20, 30]\n",
        "list_b = [20, 30, 40]\n",
        "\n",
        "print(list_a + list_b) # 더해지거나 곱해지는 것이 아닌 이어 붙이는 개념\n",
        "print(list_a * 3) # 리스트를 반복"
      ],
      "metadata": {
        "id": "l1a9KLHuIeT-",
        "colab": {
          "base_uri": "https://localhost:8080/"
        },
        "outputId": "3a95c5f9-89f6-4692-d008-386f3078ee48"
      },
      "execution_count": null,
      "outputs": [
        {
          "output_type": "stream",
          "name": "stdout",
          "text": [
            "[10, 20, 30, 20, 30, 40]\n",
            "[10, 20, 30, 10, 20, 30, 10, 20, 30]\n"
          ]
        }
      ]
    },
    {
      "cell_type": "code",
      "source": [
        "print(list_a - list_b) # list 연산 시 '-' 와 '/'는 사용 불가능"
      ],
      "metadata": {
        "id": "YKWkfDloJXK-",
        "colab": {
          "base_uri": "https://localhost:8080/",
          "height": 147
        },
        "outputId": "a86db203-8990-42c5-dc1f-cce151865085"
      },
      "execution_count": null,
      "outputs": [
        {
          "output_type": "error",
          "ename": "TypeError",
          "evalue": "unsupported operand type(s) for -: 'list' and 'list'",
          "traceback": [
            "\u001b[0;31m---------------------------------------------------------------------------\u001b[0m",
            "\u001b[0;31mTypeError\u001b[0m                                 Traceback (most recent call last)",
            "\u001b[0;32m<ipython-input-17-883c769552c6>\u001b[0m in \u001b[0;36m<cell line: 1>\u001b[0;34m()\u001b[0m\n\u001b[0;32m----> 1\u001b[0;31m \u001b[0mprint\u001b[0m\u001b[0;34m(\u001b[0m\u001b[0mlist_a\u001b[0m \u001b[0;34m-\u001b[0m \u001b[0mlist_b\u001b[0m\u001b[0;34m)\u001b[0m \u001b[0;31m# list 연산 시 '-' 와 '/'는 사용 불가능\u001b[0m\u001b[0;34m\u001b[0m\u001b[0;34m\u001b[0m\u001b[0m\n\u001b[0m",
            "\u001b[0;31mTypeError\u001b[0m: unsupported operand type(s) for -: 'list' and 'list'"
          ]
        }
      ]
    },
    {
      "cell_type": "code",
      "source": [
        "print(list_a / 2)"
      ],
      "metadata": {
        "id": "cpL0mtMUJcza",
        "colab": {
          "base_uri": "https://localhost:8080/",
          "height": 147
        },
        "outputId": "73fcf81a-1ec8-45cc-c41c-073dddf9de68"
      },
      "execution_count": null,
      "outputs": [
        {
          "output_type": "error",
          "ename": "TypeError",
          "evalue": "unsupported operand type(s) for /: 'list' and 'int'",
          "traceback": [
            "\u001b[0;31m---------------------------------------------------------------------------\u001b[0m",
            "\u001b[0;31mTypeError\u001b[0m                                 Traceback (most recent call last)",
            "\u001b[0;32m<ipython-input-18-de51fc96f0fb>\u001b[0m in \u001b[0;36m<cell line: 1>\u001b[0;34m()\u001b[0m\n\u001b[0;32m----> 1\u001b[0;31m \u001b[0mprint\u001b[0m\u001b[0;34m(\u001b[0m\u001b[0mlist_a\u001b[0m \u001b[0;34m/\u001b[0m \u001b[0;36m2\u001b[0m\u001b[0;34m)\u001b[0m\u001b[0;34m\u001b[0m\u001b[0;34m\u001b[0m\u001b[0m\n\u001b[0m",
            "\u001b[0;31mTypeError\u001b[0m: unsupported operand type(s) for /: 'list' and 'int'"
          ]
        }
      ]
    },
    {
      "cell_type": "markdown",
      "source": [
        "slicing ▶ ':'를 이용해 범위를 지정하여 부분 list를 얻을 수 있습니다."
      ],
      "metadata": {
        "id": "e6ypfrfAGxx1"
      }
    },
    {
      "cell_type": "code",
      "source": [
        "a = [10, 20, 30, 40, 50]"
      ],
      "metadata": {
        "id": "QWbPfTNBG3H8"
      },
      "execution_count": null,
      "outputs": []
    },
    {
      "cell_type": "markdown",
      "source": [
        "- a[0:2] ▶ a[0] ~ a[1]\n",
        "- a[A:B] ▶ a[A] ~ a[B - 1]\n",
        "- a[:] ▶ list a 전체 반환\n",
        "- a[1:] ▶ a[1] 부터 끝까지\n",
        "- a[:3] ▶ 처음부터 a[2]까지\n",
        "- a[::2] ▶ 처음부터 끝까지 2칸씩 반환\n"
      ],
      "metadata": {
        "id": "eJa56yg_J8mr"
      }
    },
    {
      "cell_type": "code",
      "source": [
        "print(a[0:2])\n",
        "print(a[:])# 전체\n",
        "print(a[1:])\n",
        "print(a[:3])\n",
        "print(a[::2])\n",
        "print(a[::4])"
      ],
      "metadata": {
        "id": "A7UR2anZKrAX",
        "colab": {
          "base_uri": "https://localhost:8080/"
        },
        "outputId": "a174df89-390c-4b42-acc2-9a5c54445611"
      },
      "execution_count": null,
      "outputs": [
        {
          "output_type": "stream",
          "name": "stdout",
          "text": [
            "[10, 20]\n",
            "[10, 20, 30, 40, 50]\n",
            "[20, 30, 40, 50]\n",
            "[10, 20, 30]\n",
            "[10, 30, 50]\n",
            "[10, 50]\n"
          ]
        }
      ]
    },
    {
      "cell_type": "markdown",
      "source": [
        "list에서 특정 index에 할당된 값 변경"
      ],
      "metadata": {
        "id": "Mn1ehrvma6mf"
      }
    },
    {
      "cell_type": "code",
      "source": [
        "print(a)\n",
        "a[-1]=95  # a의 마지막 요소 95 할당\n",
        "print(a)"
      ],
      "metadata": {
        "id": "Vp5RdSldIGq0",
        "colab": {
          "base_uri": "https://localhost:8080/"
        },
        "outputId": "316002a1-1be4-4812-fbd3-16ee5c8c4190"
      },
      "execution_count": null,
      "outputs": [
        {
          "output_type": "stream",
          "name": "stdout",
          "text": [
            "[10, 20, 30, 40, 50]\n",
            "[10, 20, 30, 40, 95]\n"
          ]
        }
      ]
    },
    {
      "cell_type": "markdown",
      "source": [
        "##### 변수 입력 받아보기"
      ],
      "metadata": {
        "id": "uEwGiER0ANNV"
      }
    },
    {
      "cell_type": "code",
      "source": [
        "your_name = input('이름을 입력하세요:')  # input() 함수는 사용자의 입력을 문자열(str)로 받아옵니다.\n",
        "your_age = input('나이를 입력하세요:')\n",
        "\n",
        "print('이름:', your_name,',나이:',your_age,',data type :',type(your_age))\n",
        "print(f\"이름: {your_name} ,나이: {your_age} ,data type : {type(your_age)}\")"
      ],
      "metadata": {
        "id": "iPBY_4BlARsw",
        "colab": {
          "base_uri": "https://localhost:8080/"
        },
        "outputId": "5cb1fe49-a483-42b9-a53d-72f770ebc18d"
      },
      "execution_count": null,
      "outputs": [
        {
          "output_type": "stream",
          "name": "stdout",
          "text": [
            "이름을 입력하세요:홍길동\n",
            "나이를 입력하세요:20\n",
            "이름: 홍길동 ,나이: 20 ,data type : <class 'str'>\n",
            "이름: 홍길동 ,나이: 20 ,data type : <class 'str'>\n"
          ]
        }
      ]
    },
    {
      "cell_type": "markdown",
      "source": [
        "두 개의 차이는 다음과 같습니다:\n",
        "\n",
        "\n",
        "\n",
        "1.   `print('이름:', your_name,',나이:',your_age,',data type :',type(your_age)):`\n",
        "\n",
        "이 문장은 각 요소를 콤마(,)로 구분하여 출력합니다.\n",
        "콤마를 사용할 경우 각 요소 사이에 자동으로 공백이 추가됩니다.\n",
        "\n",
        "2.  \n",
        "`print(f\"이름: {your_name} ,나이: {your_age} ,data type : {type(your_age)}\"):`\n",
        "\n",
        "이 문장은 f-string 포맷을 사용하여 출력합니다.\n",
        "f-string을 사용하면 문자열 내에서 중괄호 {}를 사용하여 변수를 포함시킬 수 있습니다.\n",
        "콤마 없이 모든 문자열이 하나로 이어집니다.\n",
        "\n",
        "\n",
        "---\n",
        "\n",
        "\n",
        "두 가지 방법 모두 결과적으로 동일한 정보를 출력하지만, 출력 형식에서 차이가 있을 수 있습니다.\n",
        "f-string 방법이 가독성이 더 좋고, 복잡한 문자열을 만들 때 유용합니다."
      ],
      "metadata": {
        "id": "2XwIM3Rb2zwf"
      }
    },
    {
      "cell_type": "markdown",
      "source": [
        "##### Tuple"
      ],
      "metadata": {
        "id": "8ntD2-VBLr6s"
      }
    },
    {
      "cell_type": "markdown",
      "source": [
        "- list와 매우 유사하지만 다릅니다.\n",
        "- list는 [ ]로 요소들을 둘러싸지만, tuple은 ( )로 요소들을 둘러쌉니다.\n",
        "- list는 내부 요소를 변경할 수 있지만 tuple은 불가능 합니다."
      ],
      "metadata": {
        "id": "NAN_NQghL748"
      }
    },
    {
      "cell_type": "code",
      "source": [
        "a = (10, 20, 30, 40, 50)"
      ],
      "metadata": {
        "id": "ZeEGt1IDLrji"
      },
      "execution_count": null,
      "outputs": []
    },
    {
      "cell_type": "code",
      "source": [
        "print(a[2])\n",
        "print(a[0:2])\n",
        "print(a[:])\n",
        "print(a[1:])\n",
        "print(a[:3])"
      ],
      "metadata": {
        "id": "mlazhDhoM_nk",
        "colab": {
          "base_uri": "https://localhost:8080/"
        },
        "outputId": "93755b9a-7931-4511-84fa-4594de469859"
      },
      "execution_count": null,
      "outputs": [
        {
          "output_type": "stream",
          "name": "stdout",
          "text": [
            "30\n",
            "(10, 20)\n",
            "(10, 20, 30, 40, 50)\n",
            "(20, 30, 40, 50)\n",
            "(10, 20, 30)\n"
          ]
        }
      ]
    },
    {
      "cell_type": "code",
      "source": [
        "a[0] = 1000 # tuple은 ( ) 안의 요소를 변경할 수 없습니다. Read Only"
      ],
      "metadata": {
        "id": "o6jws2KMNGpL",
        "colab": {
          "base_uri": "https://localhost:8080/",
          "height": 147
        },
        "outputId": "e76d4585-0957-48c2-80d9-401f22fe15c1"
      },
      "execution_count": null,
      "outputs": [
        {
          "output_type": "error",
          "ename": "TypeError",
          "evalue": "'tuple' object does not support item assignment",
          "traceback": [
            "\u001b[0;31m---------------------------------------------------------------------------\u001b[0m",
            "\u001b[0;31mTypeError\u001b[0m                                 Traceback (most recent call last)",
            "\u001b[0;32m<ipython-input-27-6552b4949766>\u001b[0m in \u001b[0;36m<cell line: 1>\u001b[0;34m()\u001b[0m\n\u001b[0;32m----> 1\u001b[0;31m \u001b[0ma\u001b[0m\u001b[0;34m[\u001b[0m\u001b[0;36m0\u001b[0m\u001b[0;34m]\u001b[0m \u001b[0;34m=\u001b[0m \u001b[0;36m1000\u001b[0m \u001b[0;31m# tuple은 ( ) 안의 요소를 변경할 수 없습니다. Read Only\u001b[0m\u001b[0;34m\u001b[0m\u001b[0;34m\u001b[0m\u001b[0m\n\u001b[0m",
            "\u001b[0;31mTypeError\u001b[0m: 'tuple' object does not support item assignment"
          ]
        }
      ]
    },
    {
      "cell_type": "markdown",
      "source": [
        "##### Dictionary"
      ],
      "metadata": {
        "id": "-Bd7Mz0qyNc6"
      }
    },
    {
      "cell_type": "markdown",
      "source": [
        "![image.png](data:image/png;base64,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)"
      ],
      "metadata": {
        "id": "h3WxCFo9NZua"
      }
    },
    {
      "cell_type": "markdown",
      "source": [
        "- {} 사용\n",
        "- Key, Value 한 쌍으로 데이터가 저장\n",
        "- 각 쌍은  ' : ' 으로 구분함"
      ],
      "metadata": {
        "id": "jRCLUboRNuK-"
      }
    },
    {
      "cell_type": "code",
      "source": [
        "score = {'A': 90, 'B': 100, 'C': 30}\n",
        "\n",
        "print(\"A의 점수:\", score['A'], \", B의 점수:\", score['B'], \", C의 점수:\", score['C'])"
      ],
      "metadata": {
        "id": "BrWGe27RyYT0",
        "colab": {
          "base_uri": "https://localhost:8080/"
        },
        "outputId": "875ebd39-9011-4efa-8950-0bff30b7572f"
      },
      "execution_count": null,
      "outputs": [
        {
          "output_type": "stream",
          "name": "stdout",
          "text": [
            "A의 점수: 90 , B의 점수: 100 , C의 점수: 30\n"
          ]
        }
      ]
    },
    {
      "cell_type": "markdown",
      "source": [
        "- Dictionary에 새로운 key-value 쌍을 추가합니다."
      ],
      "metadata": {
        "id": "NGTzsVvw-Au4"
      }
    },
    {
      "cell_type": "code",
      "source": [
        "score['D'] = 85  # key : D , value : 85 추가\n",
        "\n",
        "print(score)"
      ],
      "metadata": {
        "id": "B-s1KUrmOUqg",
        "colab": {
          "base_uri": "https://localhost:8080/"
        },
        "outputId": "facb4a06-a948-4b40-c891-84b280124ec0"
      },
      "execution_count": null,
      "outputs": [
        {
          "output_type": "stream",
          "name": "stdout",
          "text": [
            "{'A': 90, 'B': 100, 'C': 30, 'D': 85}\n"
          ]
        }
      ]
    },
    {
      "cell_type": "code",
      "source": [
        "print('score keys :', score.keys(),type(score.keys()))  # 딕셔너리에서 키들만 추출하는 메서드\n",
        "print('score values : ', score.values(), type(score.values()))  # 딕셔너리에서 value값들만 추출하는 메서드\n",
        "print('score items : ', score.items(), type(score.items()))  # 딕셔너리에서 키-값 쌍을 추출하는 메서드"
      ],
      "metadata": {
        "id": "UdmqW3JFgLw2",
        "colab": {
          "base_uri": "https://localhost:8080/"
        },
        "outputId": "e14e95e1-b65a-4941-b4b9-dbf5ccc1964b"
      },
      "execution_count": null,
      "outputs": [
        {
          "output_type": "stream",
          "name": "stdout",
          "text": [
            "score keys : dict_keys(['A', 'B', 'C', 'D']) <class 'dict_keys'>\n",
            "score values :  dict_values([90, 100, 30, 85]) <class 'dict_values'>\n",
            "score items :  dict_items([('A', 90), ('B', 100), ('C', 30), ('D', 85)]) <class 'dict_items'>\n"
          ]
        }
      ]
    },
    {
      "cell_type": "markdown",
      "source": [
        "##### Set"
      ],
      "metadata": {
        "id": "n0qOPm98yZLF"
      }
    },
    {
      "cell_type": "markdown",
      "source": [
        "\n",
        "\n",
        "*   {} 사용\n",
        "*   고유한 값들의 모음 (중복 허용x)\n",
        "*   값들은 ' , ' 로 구분함\n"
      ],
      "metadata": {
        "id": "mXY_GIYl-wRH"
      }
    },
    {
      "cell_type": "code",
      "source": [
        "set_a = {1, 2, 3}\n",
        "\n",
        "print(set_a, type(set_a))"
      ],
      "metadata": {
        "id": "59NIJJrxyao0",
        "colab": {
          "base_uri": "https://localhost:8080/"
        },
        "outputId": "4f7db22c-15f9-43b0-9119-537a02973e6e"
      },
      "execution_count": null,
      "outputs": [
        {
          "output_type": "stream",
          "name": "stdout",
          "text": [
            "{1, 2, 3} <class 'set'>\n"
          ]
        }
      ]
    },
    {
      "cell_type": "code",
      "source": [
        "set_b = {3, 4, 2, 2, 1, 5, 1, 6, 3, 8} # 중복된 값들 제거, 순서는 다시 정렬됨.\n",
        "\n",
        "print(set_b, type(set_b))"
      ],
      "metadata": {
        "id": "KNfNSs-pn8Rn",
        "colab": {
          "base_uri": "https://localhost:8080/"
        },
        "outputId": "299e6f89-e620-4f0e-fce1-234b6ba52ba3"
      },
      "execution_count": null,
      "outputs": [
        {
          "output_type": "stream",
          "name": "stdout",
          "text": [
            "{1, 2, 3, 4, 5, 6, 8} <class 'set'>\n"
          ]
        }
      ]
    },
    {
      "cell_type": "code",
      "source": [
        "set_b[0] # 집합은 순서가 없기 때문에 list나 tuple처럼 index 이용해 참조가 불가능"
      ],
      "metadata": {
        "id": "_gyDCXd1oGLY",
        "colab": {
          "base_uri": "https://localhost:8080/",
          "height": 147
        },
        "outputId": "1079fb10-5707-4c0e-967a-878d5e727610"
      },
      "execution_count": null,
      "outputs": [
        {
          "output_type": "error",
          "ename": "TypeError",
          "evalue": "'set' object is not subscriptable",
          "traceback": [
            "\u001b[0;31m---------------------------------------------------------------------------\u001b[0m",
            "\u001b[0;31mTypeError\u001b[0m                                 Traceback (most recent call last)",
            "\u001b[0;32m<ipython-input-33-f8c7d01af906>\u001b[0m in \u001b[0;36m<cell line: 1>\u001b[0;34m()\u001b[0m\n\u001b[0;32m----> 1\u001b[0;31m \u001b[0mset_b\u001b[0m\u001b[0;34m[\u001b[0m\u001b[0;36m0\u001b[0m\u001b[0;34m]\u001b[0m \u001b[0;31m# 집합은 순서가 없기 때문에 list나 tuple처럼 index 이용해 참조가 불가능\u001b[0m\u001b[0;34m\u001b[0m\u001b[0;34m\u001b[0m\u001b[0m\n\u001b[0m",
            "\u001b[0;31mTypeError\u001b[0m: 'set' object is not subscriptable"
          ]
        }
      ]
    },
    {
      "cell_type": "markdown",
      "source": [
        "집합 연산"
      ],
      "metadata": {
        "id": "vNRqgH_noLN0"
      }
    },
    {
      "cell_type": "code",
      "source": [
        "set_a = {1, 2, 3, 4, 5}\n",
        "set_b = {2, 3, 4, 5, 6}\n",
        "\n",
        "set_or = set_a | set_b  #합집합\n",
        "set_and = set_a & set_b # 교집합\n",
        "set_sub = set_a - set_b # 차집합\n",
        "\n",
        "print('set_a와 set_b의 합집합:', set_or)\n",
        "print('set_a와 set_b의 교집합:', set_and)\n",
        "print('set_a와 set_b의 차집합:', set_sub)"
      ],
      "metadata": {
        "id": "LYMOYoyjoJEC",
        "colab": {
          "base_uri": "https://localhost:8080/"
        },
        "outputId": "23b05419-6934-4f79-8d46-53aa875a7c39"
      },
      "execution_count": null,
      "outputs": [
        {
          "output_type": "stream",
          "name": "stdout",
          "text": [
            "set_a와 set_b의 합집합: {1, 2, 3, 4, 5, 6}\n",
            "set_a와 set_b의 교집합: {2, 3, 4, 5}\n",
            "set_a와 set_b의 차집합: {1}\n"
          ]
        }
      ]
    },
    {
      "cell_type": "markdown",
      "source": [
        "list, tuple, string, dictionary, set의 길이(list 안 요소의 개수) ▶ len() 메서드"
      ],
      "metadata": {
        "id": "Nzk1uXQs1A4N"
      }
    },
    {
      "cell_type": "code",
      "source": [
        "list_a = [1, 2, 3, 4, 5, 6]\n",
        "list_b = [[1, 20], [2, 30], [4, 50], [5, 60]]\n",
        "tuple_c = (2, 4, 5, 6, 7, 8)\n",
        "dict_d = {'A': 25, 'B': 45}\n",
        "str_e = 'hello!'"
      ],
      "metadata": {
        "id": "jwSC6x2Z1Gg1"
      },
      "execution_count": null,
      "outputs": []
    },
    {
      "cell_type": "code",
      "source": [
        "print('list_a 길이 ▶', len(list_a))\n",
        "print('list_b 길이 ▶', len(list_b))  # 여기서 list의 길이는 하위 리스트의 개수\n",
        "print('tuple_c 길이 ▶', len(tuple_c))\n",
        "print('dict_d 길이 ▶', len(dict_d))\n",
        "print('str_e 길이 ▶', len(str_e))"
      ],
      "metadata": {
        "id": "EeUJI-EF5jU-",
        "colab": {
          "base_uri": "https://localhost:8080/"
        },
        "outputId": "2091a366-e074-4d35-b6f7-bdab4222b0f6"
      },
      "execution_count": null,
      "outputs": [
        {
          "output_type": "stream",
          "name": "stdout",
          "text": [
            "list_a 길이 ▶ 6\n",
            "list_b 길이 ▶ 4\n",
            "tuple_c 길이 ▶ 6\n",
            "dict_d 길이 ▶ 2\n",
            "str_e 길이 ▶ 6\n"
          ]
        }
      ]
    },
    {
      "cell_type": "markdown",
      "source": [
        "## 2.Python 기초 - 제어문"
      ],
      "metadata": {
        "id": "EQiEnUezUQRP"
      }
    },
    {
      "cell_type": "markdown",
      "source": [
        "#### Python 기초 - if문"
      ],
      "metadata": {
        "id": "9uLOPl1nVTvl"
      }
    },
    {
      "cell_type": "markdown",
      "source": [
        " ![image.png](data:image/png;base64,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)\n"
      ],
      "metadata": {
        "id": "iCV4TrXvTvPq"
      }
    },
    {
      "cell_type": "markdown",
      "source": [
        " ex1) 주어진 변수에 할당된 값이 양수인지 음수인지 0인지 판단하는 조건문"
      ],
      "metadata": {
        "id": "Bq5W32K7ICvg"
      }
    },
    {
      "cell_type": "markdown",
      "source": [
        "- int()가 없으면 입력한 값은 문자열(str) 형태로 반환"
      ],
      "metadata": {
        "id": "jaxjuk8MC9Tt"
      }
    },
    {
      "cell_type": "code",
      "source": [
        "condition = int(input('숫자를 입력하세요:')) # 주의할 점 input method로 값을 입력받아오면 str형태로 받아오는 것에 주의해주세요!\n",
        "\n",
        "if condition > 0:\n",
        "  print('양수')\n",
        "elif condition == 0:\n",
        "  print('0')\n",
        "else:\n",
        "  print('음수')"
      ],
      "metadata": {
        "id": "2P2q1hHx9wij",
        "colab": {
          "base_uri": "https://localhost:8080/"
        },
        "outputId": "a5850ae4-c38b-46cd-a16b-a518a2a97c03"
      },
      "execution_count": null,
      "outputs": [
        {
          "output_type": "stream",
          "name": "stdout",
          "text": [
            "숫자를 입력하세요:20\n",
            "양수\n"
          ]
        }
      ]
    },
    {
      "cell_type": "markdown",
      "source": [
        "ex2) list 또는 dictionary 안에 특정 값이 있을 때 print문 반환하는 if 문"
      ],
      "metadata": {
        "id": "nr2EXnzgI85Q"
      }
    },
    {
      "cell_type": "code",
      "source": [
        "list_data = [10, 20, 30, 40, 50]\n",
        "dict_data = {\"A\": 40, \"B\": 60, \"C\": 100}"
      ],
      "metadata": {
        "id": "W5T2kj3hI62k"
      },
      "execution_count": null,
      "outputs": []
    },
    {
      "cell_type": "code",
      "source": [
        "data1 = 60\n",
        "\n",
        "if data1 in list_data:\n",
        "  print(data1, '이(가) list_data안에 존재합니다.')\n",
        "else:\n",
        "  print(data1, '은(는) list_data안에 존재하지 않습니다.')"
      ],
      "metadata": {
        "id": "2fCHifJDKR8n",
        "colab": {
          "base_uri": "https://localhost:8080/"
        },
        "outputId": "56341872-68db-421b-c2af-1b258f5b9715"
      },
      "execution_count": null,
      "outputs": [
        {
          "output_type": "stream",
          "name": "stdout",
          "text": [
            "60 은(는) list_data안에 존재하지 않습니다.\n"
          ]
        }
      ]
    },
    {
      "cell_type": "code",
      "source": [
        "data2 = 'A'\n",
        "\n",
        "if data2 in dict_data:\n",
        "  print(data2, '은(는) dict_data안에 존재합니다.')\n",
        "else:\n",
        "  print(data2, '은(는) dict_data안에 존재하지 않습니다.')"
      ],
      "metadata": {
        "id": "-5603pzkKSt3",
        "colab": {
          "base_uri": "https://localhost:8080/"
        },
        "outputId": "43988c27-f7c9-4253-b464-6a1fe0654913"
      },
      "execution_count": null,
      "outputs": [
        {
          "output_type": "stream",
          "name": "stdout",
          "text": [
            "A 은(는) dict_data안에 존재합니다.\n"
          ]
        }
      ]
    },
    {
      "cell_type": "markdown",
      "source": [
        "#### Python 기초 - for 문, while 문, list comprehension"
      ],
      "metadata": {
        "id": "d1xxwJqSybfV"
      }
    },
    {
      "cell_type": "markdown",
      "source": [
        "##### for 문"
      ],
      "metadata": {
        "id": "rS-F0BFWyzL5"
      }
    },
    {
      "cell_type": "code",
      "source": [
        "for i in range(10): # range(10) -> 0부터 9까지 범위의 숫자들 하나씩 출력\n",
        "  print(i)  # print()함수는 기본적으로 각 출력 후에 새로운 줄(\\n)을 추가하므로, 각 숫자가 별도의 줄에 출력"
      ],
      "metadata": {
        "id": "RlE3gFXsyz0g",
        "colab": {
          "base_uri": "https://localhost:8080/"
        },
        "outputId": "c87fd68e-ba82-434e-a9a5-f0c539ff6288"
      },
      "execution_count": null,
      "outputs": [
        {
          "output_type": "stream",
          "name": "stdout",
          "text": [
            "0\n",
            "1\n",
            "2\n",
            "3\n",
            "4\n",
            "5\n",
            "6\n",
            "7\n",
            "8\n",
            "9\n"
          ]
        }
      ]
    },
    {
      "cell_type": "code",
      "source": [
        "for i in range(10):\n",
        "  print(i, \" \", end='') # print문에 end='' 옵션(줄바꿈 대신 공백) 을 줘서 위와 다르게 일렬로 숫자가 출력되게 할 수 있습니다."
      ],
      "metadata": {
        "id": "f7S3-yMsLbwd",
        "colab": {
          "base_uri": "https://localhost:8080/"
        },
        "outputId": "a2cedd81-da05-4ab6-9247-8492c5aa761d"
      },
      "execution_count": null,
      "outputs": [
        {
          "output_type": "stream",
          "name": "stdout",
          "text": [
            "0  1  2  3  4  5  6  7  8  9  "
          ]
        }
      ]
    },
    {
      "cell_type": "code",
      "source": [
        "for i in range(0, 10, 2): # range(시작, 끝, step)\n",
        "  print(i, \" \", end='')"
      ],
      "metadata": {
        "id": "yARh4rCoLhdq",
        "colab": {
          "base_uri": "https://localhost:8080/"
        },
        "outputId": "3739fea3-8b6d-49d0-8953-876400905b7a"
      },
      "execution_count": null,
      "outputs": [
        {
          "output_type": "stream",
          "name": "stdout",
          "text": [
            "0  2  4  6  8  "
          ]
        }
      ]
    },
    {
      "cell_type": "code",
      "source": [
        "list_data = [10, 20, 30, 40, 50]\n",
        "tupe_data = (60,70,80)\n",
        "dict_data = {\"A\": 40, \"B\": 60, \"C\": 100}"
      ],
      "metadata": {
        "id": "l-EGZpHFLo0s"
      },
      "execution_count": null,
      "outputs": []
    },
    {
      "cell_type": "code",
      "source": [
        "# LIST\n",
        "for data in list_data:\n",
        "  print(data, \" \", end='')  # 각 요소를 출력한 후 공백을 추가하고, 줄 바꿈을 하지 않도록 합니다."
      ],
      "metadata": {
        "id": "GS556oPaL4Kd",
        "colab": {
          "base_uri": "https://localhost:8080/"
        },
        "outputId": "0af57886-0259-42f1-e391-cb0ec5d19431"
      },
      "execution_count": null,
      "outputs": [
        {
          "output_type": "stream",
          "name": "stdout",
          "text": [
            "10  20  30  40  50  "
          ]
        }
      ]
    },
    {
      "cell_type": "code",
      "source": [
        "# TUPLE\n",
        "for data in tupe_data:\n",
        "  print(data, \" \", end='')"
      ],
      "metadata": {
        "id": "MTVkA2nKQBQu",
        "colab": {
          "base_uri": "https://localhost:8080/"
        },
        "outputId": "7df1cc4d-8f44-458f-d156-7e2c5e54f11c"
      },
      "execution_count": null,
      "outputs": [
        {
          "output_type": "stream",
          "name": "stdout",
          "text": [
            "60  70  80  "
          ]
        }
      ]
    },
    {
      "cell_type": "code",
      "source": [
        "# DICTIONARY\n",
        "for data in dict_data:\n",
        "  print(data, \" \", end='') #dictionary의 경우 기본적으로 key값만 순회"
      ],
      "metadata": {
        "id": "1nzDT4n5L9r1",
        "colab": {
          "base_uri": "https://localhost:8080/"
        },
        "outputId": "2fa73eed-d2f0-4bcb-9571-6761f2731513"
      },
      "execution_count": null,
      "outputs": [
        {
          "output_type": "stream",
          "name": "stdout",
          "text": [
            "A  B  C  "
          ]
        }
      ]
    },
    {
      "cell_type": "code",
      "source": [
        "for value in dict_data.values():  # 값(value)만 순회\n",
        "  print(value, \" \", end='')"
      ],
      "metadata": {
        "colab": {
          "base_uri": "https://localhost:8080/"
        },
        "id": "VaRlh0R0sKb_",
        "outputId": "33016d3f-da66-4b1e-f75f-2ba271aa9a46"
      },
      "execution_count": null,
      "outputs": [
        {
          "output_type": "stream",
          "name": "stdout",
          "text": [
            "40  60  100  "
          ]
        }
      ]
    },
    {
      "cell_type": "code",
      "source": [
        "for key, value in dict_data.items():  # key,value 값 모두 순회\n",
        "  print(key, \":\", value)\n",
        "  # print(f\"{key} : {value}\") # 같은 출력"
      ],
      "metadata": {
        "id": "zMsenLbMMCET",
        "colab": {
          "base_uri": "https://localhost:8080/"
        },
        "outputId": "bebad2ea-e76e-4a2b-9112-f185db9ad9ed"
      },
      "execution_count": null,
      "outputs": [
        {
          "output_type": "stream",
          "name": "stdout",
          "text": [
            "A : 40\n",
            "B : 60\n",
            "C : 100\n"
          ]
        }
      ]
    },
    {
      "cell_type": "markdown",
      "source": [
        "enumerate() 메서드를 활용해 데이터와 index를 모두 가져올수 있다."
      ],
      "metadata": {
        "id": "ZDBP0iFJMQmj"
      }
    },
    {
      "cell_type": "code",
      "source": [
        "for idx,data in enumerate(list_data):\n",
        "  print(f\"index : {idx}\",end=\" ,\")\n",
        "  print(f\"data : {data}\")"
      ],
      "metadata": {
        "id": "pHLM8g11MMeJ",
        "colab": {
          "base_uri": "https://localhost:8080/"
        },
        "outputId": "c2b6f89c-7ff2-4d4f-8f7f-46fa2ba2b75e"
      },
      "execution_count": null,
      "outputs": [
        {
          "output_type": "stream",
          "name": "stdout",
          "text": [
            "index : 0 ,data : 10\n",
            "index : 1 ,data : 20\n",
            "index : 2 ,data : 30\n",
            "index : 3 ,data : 40\n",
            "index : 4 ,data : 50\n"
          ]
        }
      ]
    },
    {
      "cell_type": "markdown",
      "source": [
        " zip()를 이용해서도 enumerate와 같은 효과를 얻을 수 있습니다.\n",
        " ![image.png](data:image/png;base64,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)"
      ],
      "metadata": {
        "id": "hkf5lxfwaFoH"
      }
    },
    {
      "cell_type": "code",
      "source": [
        "data_a = ['A', 'B', 'C', 'D', 'E']  # 5개의 문자 리스트\n",
        "data_b = [1, 2, 3, 4, 5, 6]  # 6개의 문자 리스트\n",
        "\n",
        "data_all = zip(data_a, data_b) # 단 data_a와 data_b의 길이중 짧은 길이 기준"
      ],
      "metadata": {
        "id": "VVNtBVRJaFBc"
      },
      "execution_count": null,
      "outputs": []
    },
    {
      "cell_type": "code",
      "source": [
        "print(data_all, type(data_all))  # zip 객체는 바로 출력하면 그 내용을 보여주지 않고, 메모리 주소를 출력합니다."
      ],
      "metadata": {
        "id": "06BzMr06a6IS",
        "colab": {
          "base_uri": "https://localhost:8080/"
        },
        "outputId": "db46aeba-7de0-4c68-dcdd-ef7a0a19c5e4"
      },
      "execution_count": null,
      "outputs": [
        {
          "output_type": "stream",
          "name": "stdout",
          "text": [
            "<zip object at 0x7d91301d0740> <class 'zip'>\n"
          ]
        }
      ]
    },
    {
      "cell_type": "code",
      "source": [
        "data_all = list(data_all)  # 실제 데이터를 보려면 이 zip 객체를 리스트나 튜플로 변환해야 합니다.\n",
        "\n",
        "print(data_all, type(data_all)) # zip 객체를 리스트로 변환 -> 각 요소는 튜플"
      ],
      "metadata": {
        "id": "13OhYi06bBet",
        "colab": {
          "base_uri": "https://localhost:8080/"
        },
        "outputId": "cab2ed95-f1de-4afc-f18b-5f9bf351cddf"
      },
      "execution_count": null,
      "outputs": [
        {
          "output_type": "stream",
          "name": "stdout",
          "text": [
            "[('A', 1), ('B', 2), ('C', 3), ('D', 4), ('E', 5)] <class 'list'>\n"
          ]
        }
      ]
    },
    {
      "cell_type": "code",
      "source": [
        "for x, y in data_all:\n",
        "  print(f\"x = {x}, y = {y}\")"
      ],
      "metadata": {
        "id": "OyY9mfkZbXs4",
        "colab": {
          "base_uri": "https://localhost:8080/"
        },
        "outputId": "e91ff511-cf51-46e4-f3ef-9b867c829214"
      },
      "execution_count": null,
      "outputs": [
        {
          "output_type": "stream",
          "name": "stdout",
          "text": [
            "x = A, y = 1\n",
            "x = B, y = 2\n",
            "x = C, y = 3\n",
            "x = D, y = 4\n",
            "x = E, y = 5\n"
          ]
        }
      ]
    },
    {
      "cell_type": "markdown",
      "source": [
        "##### while 문"
      ],
      "metadata": {
        "id": "uBzD7w_iyy4d"
      }
    },
    {
      "cell_type": "code",
      "source": [
        "counter = 0\n",
        "\n",
        "while counter < 10: # 0 ~ 9까지 반복\n",
        "  counter = counter + 1\n",
        "  print('현재 반복 횟수는 ? : ', counter, '번')"
      ],
      "metadata": {
        "id": "zvH-4fw8y0Je",
        "colab": {
          "base_uri": "https://localhost:8080/"
        },
        "outputId": "0baa36fc-da31-4a2d-c44e-83b1cc8678c8"
      },
      "execution_count": null,
      "outputs": [
        {
          "output_type": "stream",
          "name": "stdout",
          "text": [
            "현재 반복 횟수는 ? :  1 번\n",
            "현재 반복 횟수는 ? :  2 번\n",
            "현재 반복 횟수는 ? :  3 번\n",
            "현재 반복 횟수는 ? :  4 번\n",
            "현재 반복 횟수는 ? :  5 번\n",
            "현재 반복 횟수는 ? :  6 번\n",
            "현재 반복 횟수는 ? :  7 번\n",
            "현재 반복 횟수는 ? :  8 번\n",
            "현재 반복 횟수는 ? :  9 번\n",
            "현재 반복 횟수는 ? :  10 번\n"
          ]
        }
      ]
    },
    {
      "cell_type": "markdown",
      "source": [
        "while문과 if문을 합쳐서 특정 반복횟수에 도달하면 멈추는 코드"
      ],
      "metadata": {
        "id": "-rlW8rPQTWKg"
      }
    },
    {
      "cell_type": "code",
      "source": [
        "counter = 0\n",
        "\n",
        "while counter < 10: # 0 ~ 9까지 반복\n",
        "  counter = counter + 1\n",
        "\n",
        "  if counter == 8:\n",
        "    print('반복 횟수 :', counter,'번째 에서 while문 멈춤')\n",
        "    break\n",
        "  else:\n",
        "    print('현재 반복 횟수는?', counter, '번')\n",
        "    continue"
      ],
      "metadata": {
        "id": "T8TERQYuTS4r",
        "colab": {
          "base_uri": "https://localhost:8080/"
        },
        "outputId": "5dd73cc7-221f-41f1-e6cb-8c4d41e99b49"
      },
      "execution_count": null,
      "outputs": [
        {
          "output_type": "stream",
          "name": "stdout",
          "text": [
            "현재 반복 횟수는? 1 번\n",
            "현재 반복 횟수는? 2 번\n",
            "현재 반복 횟수는? 3 번\n",
            "현재 반복 횟수는? 4 번\n",
            "현재 반복 횟수는? 5 번\n",
            "현재 반복 횟수는? 6 번\n",
            "현재 반복 횟수는? 7 번\n",
            "반복 횟수 : 8 번째 에서 while문 멈춤\n"
          ]
        }
      ]
    },
    {
      "cell_type": "markdown",
      "source": [
        "##### list comprehension"
      ],
      "metadata": {
        "id": "24xAjZYnDcJM"
      }
    },
    {
      "cell_type": "markdown",
      "source": [
        "\n",
        "\n",
        "*   list의 [ ]안에 for 문을 사용해서 반복적으로 표현식 실행해 list 요소들을 정의하는 방법을 list comprehension 이라고 정의합니다.\n",
        "*   쉽게 말해 ‘리스트를 쉽게, 짧게 한 줄로 만들 수 있는 파이썬의 문법’입니다.\n",
        "*   기존에 반복문을 사용하여 리스트를 생성하는 방식보다 훨씬 더 직관적이고 코드가 짧아집니다.\n",
        "\n",
        "\n",
        "\n",
        "\n",
        "\n",
        "\n",
        "\n"
      ],
      "metadata": {
        "id": "0AzPbdI5OQ11"
      }
    },
    {
      "cell_type": "markdown",
      "source": [
        "[ list comprehension 문법 ]\n",
        "\n",
        "\n",
        "1.    `[표현식 for 변수 in 반복가능한객체]`\n",
        "\n",
        "Tip!⚡) 리스트 안에 식, for, 변수, in, 리스트 순서로 들어있지만 뒤에서 앞으로 읽으면 간단합니다.\n",
        "\n",
        "즉, range(10)으로 0부터 9까지 생성하여 변수 i에 숫자를 꺼내고, 최종적으로 i를 이용하여 리스트를 만든다는 뜻입니다.\n",
        "\n",
        "\n"
      ],
      "metadata": {
        "id": "FMrf7eIRttKh"
      }
    },
    {
      "cell_type": "markdown",
      "source": [
        "![image.png](data:image/png;base64,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)"
      ],
      "metadata": {
        "id": "VbrJBWJAyLaA"
      }
    },
    {
      "cell_type": "code",
      "source": [
        "list_data = [x**2 for x in range(10)]"
      ],
      "metadata": {
        "id": "tdrUB4EqDfoW"
      },
      "execution_count": null,
      "outputs": []
    },
    {
      "cell_type": "code",
      "source": [
        "print(list_data)"
      ],
      "metadata": {
        "id": "74xYf9UsQiFw",
        "colab": {
          "base_uri": "https://localhost:8080/"
        },
        "outputId": "f51041bb-5c1e-444a-a85a-b45275ef9f29"
      },
      "execution_count": null,
      "outputs": [
        {
          "output_type": "stream",
          "name": "stdout",
          "text": [
            "[0, 1, 4, 9, 16, 25, 36, 49, 64, 81]\n"
          ]
        }
      ]
    },
    {
      "cell_type": "markdown",
      "source": [
        "Ex) 어떤 데이터가 있고, 그 데이터는 입력과 정답이 짝지어져 있는 상태\n",
        "\n",
        "▶ 입력과 정답으로 나눠보기"
      ],
      "metadata": {
        "id": "Nb3UnPasSXEU"
      }
    },
    {
      "cell_type": "code",
      "source": [
        "raw_data = [[1, 5], [2, 8], [3, 9], [4, 12], [5, 42]]"
      ],
      "metadata": {
        "id": "tWEtHcyPQlb2"
      },
      "execution_count": null,
      "outputs": []
    },
    {
      "cell_type": "code",
      "source": [
        "input_data = [data[0] for data in raw_data]  #  input_data는 각 하위 리스트의 첫번째 요소를 포함 -> []를 통해 list로 만듬\n",
        "label_data = [data[1] for data in raw_data]  #  label_data는 각 하위 리스트의 두번째 요소를 포함 -> []를 통해 list로 만듬\n",
        "\n",
        "print('input_data ▶', input_data)\n",
        "print('label_data ▶', label_data)"
      ],
      "metadata": {
        "id": "ya4dWr0xS9bX",
        "colab": {
          "base_uri": "https://localhost:8080/"
        },
        "outputId": "03b2e8e8-7b7e-48a4-cd02-4cdf904509dc"
      },
      "execution_count": null,
      "outputs": [
        {
          "output_type": "stream",
          "name": "stdout",
          "text": [
            "input_data ▶ [1, 2, 3, 4, 5]\n",
            "label_data ▶ [5, 8, 9, 12, 42]\n"
          ]
        }
      ]
    },
    {
      "cell_type": "markdown",
      "source": [
        "2.    `[표현식 for  in 반복가능한객체 if 조건]`"
      ],
      "metadata": {
        "id": "t5Sa2a3AyrdD"
      }
    },
    {
      "cell_type": "markdown",
      "source": [
        "![image.png](data:image/png;base64,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)"
      ],
      "metadata": {
        "id": "FSHvBdsbys8_"
      }
    },
    {
      "cell_type": "code",
      "source": [
        "list_data = [x**2 for x in range(10) if x > 5]"
      ],
      "metadata": {
        "id": "yjo8JMBYWZwB"
      },
      "execution_count": null,
      "outputs": []
    },
    {
      "cell_type": "code",
      "source": [
        "print(list_data)"
      ],
      "metadata": {
        "id": "woFjICTxWtqB",
        "colab": {
          "base_uri": "https://localhost:8080/"
        },
        "outputId": "2b5866e6-e5ba-4e00-a8b2-1228ea69733c"
      },
      "execution_count": null,
      "outputs": [
        {
          "output_type": "stream",
          "name": "stdout",
          "text": [
            "[36, 49, 64, 81]\n"
          ]
        }
      ]
    },
    {
      "cell_type": "markdown",
      "source": [
        "# 한 번 해보기! (실습)\n"
      ],
      "metadata": {
        "id": "S1oXsCi3rq5Q"
      }
    },
    {
      "cell_type": "markdown",
      "source": [
        "1. 주어진 데이터 경로 list에서 train 폴더의 경로들만, validation 폴더의 경로들만 추출해서 나눠서 각각 train_data, validation_data변수에 할당해 주세요\n",
        "  - ✌[hint] list comprehension, if문 , for문 사용해보세요!\n",
        "2. 1번에서 나눈 train_data, validation_data list에서 이미지 이름에 'cat'이 포함될 경우에는 숫자 0으로, 'dog'가 포함되어있을 경우에는 1로 하는 동일한 길이의 list를 각각 train_label, validation_label 변수에 할당해 주세요.\n",
        "  - ✌[hint] list comprehension, if문, spilt(), for문 사용해보세요!\n",
        "3. train_data, train_label, validation_data, validation_label 네개의 리스트에서 data를 key값으로,  label을 value값으로 하는 data_dictionary를 만들어 출력해보세요 (optional)\n",
        "\n",
        "  (ex. {'/content/data/cat_and_dog/train/dog01.png': 1 '/content/data/cat_and_dog/train/cat03.png':0,...})\n",
        "  - ✌[hint] zip(), items(),split() 사용해보세요!"
      ],
      "metadata": {
        "id": "sdEB5aD0dfZv"
      }
    },
    {
      "cell_type": "code",
      "source": [
        "data_path = [\n",
        "    '/content/data/cat_and_dog/train/dog01.png',\n",
        "    '/content/data/cat_and_dog/train/dog02.png',\n",
        "    '/content/data/cat_and_dog/train/dog03.png',\n",
        "    '/content/data/cat_and_dog/validation/cat14.png',\n",
        "    '/content/data/cat_and_dog/validation/cat15.png',\n",
        "    '/content/data/cat_and_dog/train/dog04.png',\n",
        "    '/content/data/cat_and_dog/train/dog10.png',\n",
        "    '/content/data/cat_and_dog/validation/dog11.png',\n",
        "    '/content/data/cat_and_dog/validation/dog14.png',\n",
        "    '/content/data/cat_and_dog/validation/dog15.png',\n",
        "    '/content/data/cat_and_dog/train/cat01.png',\n",
        "    '/content/data/cat_and_dog/train/cat02.png',\n",
        "    '/content/data/cat_and_dog/train/dog08.png',\n",
        "    '/content/data/cat_and_dog/train/dog09.png',\n",
        "    '/content/data/cat_and_dog/train/cat03.png',\n",
        "    '/content/data/cat_and_dog/train/cat04.png',\n",
        "    '/content/data/cat_and_dog/train/cat05.png',\n",
        "    '/content/data/cat_and_dog/train/dog05.png',\n",
        "    '/content/data/cat_and_dog/train/dog06.png',\n",
        "    '/content/data/cat_and_dog/train/dog07.png',\n",
        "    '/content/data/cat_and_dog/train/cat06.png',\n",
        "    '/content/data/cat_and_dog/train/cat07.png',\n",
        "    '/content/data/cat_and_dog/train/cat08.png',\n",
        "    '/content/data/cat_and_dog/validation/dog12.png',\n",
        "    '/content/data/cat_and_dog/validation/dog13.png',\n",
        "    '/content/data/cat_and_dog/train/cat09.png',\n",
        "    '/content/data/cat_and_dog/train/cat10.png',\n",
        "    '/content/data/cat_and_dog/validation/cat11.png',\n",
        "    '/content/data/cat_and_dog/validation/cat12.png',\n",
        "    '/content/data/cat_and_dog/validation/cat13.png',\n",
        "]"
      ],
      "metadata": {
        "id": "yOlw4Pnvrvf4"
      },
      "execution_count": null,
      "outputs": []
    },
    {
      "cell_type": "markdown",
      "source": [
        "1번"
      ],
      "metadata": {
        "id": "-zCSRcAseamq"
      }
    },
    {
      "cell_type": "code",
      "source": [
        "train_data = []\n",
        "validation_data = []\n",
        "\n",
        "print(train_data)\n",
        "print(validation_data)"
      ],
      "metadata": {
        "id": "QOkQ1UajMh_Y",
        "colab": {
          "base_uri": "https://localhost:8080/"
        },
        "outputId": "f6e4dcdf-22ae-4cdb-cebb-e821a21167a2"
      },
      "execution_count": null,
      "outputs": [
        {
          "output_type": "stream",
          "name": "stdout",
          "text": [
            "[]\n",
            "[]\n"
          ]
        }
      ]
    },
    {
      "cell_type": "markdown",
      "source": [
        "2번"
      ],
      "metadata": {
        "id": "4_iczlmbec87"
      }
    },
    {
      "cell_type": "code",
      "source": [
        "train_label = []\n",
        "validation_label = []\n",
        "if\n",
        "print(train_label)\n",
        "print(validation_label)"
      ],
      "metadata": {
        "id": "oWA77IGQee3o",
        "colab": {
          "base_uri": "https://localhost:8080/"
        },
        "outputId": "d3e7e200-f478-49b3-d9e1-1a5249155636"
      },
      "execution_count": null,
      "outputs": [
        {
          "output_type": "stream",
          "name": "stdout",
          "text": [
            "[]\n",
            "[]\n"
          ]
        }
      ]
    },
    {
      "cell_type": "markdown",
      "source": [
        "##### 3번"
      ],
      "metadata": {
        "id": "406_zLbkZJq8"
      }
    },
    {
      "cell_type": "code",
      "source": [
        "train_data_dictionary={}\n",
        "validation_data_dictionary={}\n",
        "\n",
        "print(train_data_dictionary)\n",
        "print(validation_data_dictionary)"
      ],
      "metadata": {
        "id": "Dl5GVNmIZ4A8",
        "colab": {
          "base_uri": "https://localhost:8080/"
        },
        "outputId": "da34c822-c679-44c6-84a3-606106d33be6"
      },
      "execution_count": null,
      "outputs": [
        {
          "output_type": "stream",
          "name": "stdout",
          "text": [
            "{}\n",
            "{}\n"
          ]
        }
      ]
    },
    {
      "cell_type": "markdown",
      "source": [
        "#### 실습 정답 (꼭 풀어본 뒤에 확인해주세요!)"
      ],
      "metadata": {
        "id": "EI6_tgymOs2Y"
      }
    },
    {
      "cell_type": "markdown",
      "source": [
        "1번 정답"
      ],
      "metadata": {
        "id": "0w0nbT_jOs2Z"
      }
    },
    {
      "cell_type": "markdown",
      "source": [
        "- for문을 이용한 방법"
      ],
      "metadata": {
        "id": "KBMasLhLVZxA"
      }
    },
    {
      "cell_type": "code",
      "source": [
        "train_data = []\n",
        "validation_data = []\n",
        "for path in data_path:\n",
        "  if path.split(\"/\")[-2]=='train':\n",
        "    train_data.append(path)\n",
        "  elif path.split(\"/\")[-2]=='validation':\n",
        "    validation_data.append(path)\n",
        "print(train_data)\n",
        "print(validation_data)"
      ],
      "metadata": {
        "id": "HSkYkypQvJIj",
        "colab": {
          "base_uri": "https://localhost:8080/"
        },
        "outputId": "b32f2db1-4367-4acc-afb9-5b26c453e743"
      },
      "execution_count": null,
      "outputs": [
        {
          "output_type": "stream",
          "name": "stdout",
          "text": [
            "['/content/data/cat_and_dog/train/dog01.png', '/content/data/cat_and_dog/train/dog02.png', '/content/data/cat_and_dog/train/dog03.png', '/content/data/cat_and_dog/train/dog04.png', '/content/data/cat_and_dog/train/dog10.png', '/content/data/cat_and_dog/train/cat01.png', '/content/data/cat_and_dog/train/cat02.png', '/content/data/cat_and_dog/train/dog08.png', '/content/data/cat_and_dog/train/dog09.png', '/content/data/cat_and_dog/train/cat03.png', '/content/data/cat_and_dog/train/cat04.png', '/content/data/cat_and_dog/train/cat05.png', '/content/data/cat_and_dog/train/dog05.png', '/content/data/cat_and_dog/train/dog06.png', '/content/data/cat_and_dog/train/dog07.png', '/content/data/cat_and_dog/train/cat06.png', '/content/data/cat_and_dog/train/cat07.png', '/content/data/cat_and_dog/train/cat08.png', '/content/data/cat_and_dog/train/cat09.png', '/content/data/cat_and_dog/train/cat10.png']\n",
            "['/content/data/cat_and_dog/validation/cat14.png', '/content/data/cat_and_dog/validation/cat15.png', '/content/data/cat_and_dog/validation/dog11.png', '/content/data/cat_and_dog/validation/dog14.png', '/content/data/cat_and_dog/validation/dog15.png', '/content/data/cat_and_dog/validation/dog12.png', '/content/data/cat_and_dog/validation/dog13.png', '/content/data/cat_and_dog/validation/cat11.png', '/content/data/cat_and_dog/validation/cat12.png', '/content/data/cat_and_dog/validation/cat13.png']\n"
          ]
        }
      ]
    },
    {
      "cell_type": "markdown",
      "source": [
        "- list comprehension을 이용한 방법"
      ],
      "metadata": {
        "id": "VXlw4CHsVeSu"
      }
    },
    {
      "cell_type": "code",
      "source": [
        "train_data = [data for data in data_path if 'train' in data]\n",
        "validation_data = [data for data in data_path if 'validation' in data]\n",
        "print(train_data)\n",
        "print(validation_data)"
      ],
      "metadata": {
        "id": "wOgDp6WIq5g2",
        "colab": {
          "base_uri": "https://localhost:8080/"
        },
        "outputId": "786228a9-05be-4d37-e49c-e78dc4cc37dd"
      },
      "execution_count": null,
      "outputs": [
        {
          "output_type": "stream",
          "name": "stdout",
          "text": [
            "['/content/data/cat_and_dog/train/dog01.png', '/content/data/cat_and_dog/train/dog02.png', '/content/data/cat_and_dog/train/dog03.png', '/content/data/cat_and_dog/train/dog04.png', '/content/data/cat_and_dog/train/dog10.png', '/content/data/cat_and_dog/train/cat01.png', '/content/data/cat_and_dog/train/cat02.png', '/content/data/cat_and_dog/train/dog08.png', '/content/data/cat_and_dog/train/dog09.png', '/content/data/cat_and_dog/train/cat03.png', '/content/data/cat_and_dog/train/cat04.png', '/content/data/cat_and_dog/train/cat05.png', '/content/data/cat_and_dog/train/dog05.png', '/content/data/cat_and_dog/train/dog06.png', '/content/data/cat_and_dog/train/dog07.png', '/content/data/cat_and_dog/train/cat06.png', '/content/data/cat_and_dog/train/cat07.png', '/content/data/cat_and_dog/train/cat08.png', '/content/data/cat_and_dog/train/cat09.png', '/content/data/cat_and_dog/train/cat10.png']\n",
            "['/content/data/cat_and_dog/validation/cat14.png', '/content/data/cat_and_dog/validation/cat15.png', '/content/data/cat_and_dog/validation/dog11.png', '/content/data/cat_and_dog/validation/dog14.png', '/content/data/cat_and_dog/validation/dog15.png', '/content/data/cat_and_dog/validation/dog12.png', '/content/data/cat_and_dog/validation/dog13.png', '/content/data/cat_and_dog/validation/cat11.png', '/content/data/cat_and_dog/validation/cat12.png', '/content/data/cat_and_dog/validation/cat13.png']\n"
          ]
        }
      ]
    },
    {
      "cell_type": "markdown",
      "source": [
        "2번 정답"
      ],
      "metadata": {
        "id": "3nDqpblvOs2a"
      }
    },
    {
      "cell_type": "markdown",
      "source": [
        "- for문을 이용한 방법"
      ],
      "metadata": {
        "id": "AeacdyouYS9F"
      }
    },
    {
      "cell_type": "code",
      "source": [
        "train_label=[]\n",
        "validation_label=[]\n",
        "for path in train_data:\n",
        "  if 'cat' in path.split(\"/\")[-1]:\n",
        "    train_label.append(0)\n",
        "  elif 'dog' in path.split(\"/\")[-1]:\n",
        "    train_label.append(1)\n",
        "for path in validation_data:\n",
        "  if 'cat' in path.split(\"/\")[-1]:\n",
        "    validation_label.append(0)\n",
        "  elif 'dog' in path.split(\"/\")[-1]:\n",
        "    validation_label.append(1)\n",
        "print(train_data)\n",
        "print(train_label)\n",
        "print(validation_data)\n",
        "print(validation_label)"
      ],
      "metadata": {
        "colab": {
          "base_uri": "https://localhost:8080/"
        },
        "outputId": "c5100cbe-5356-4d97-fd5f-6814321c8ac8",
        "id": "YMNvssfIOs2a"
      },
      "execution_count": null,
      "outputs": [
        {
          "output_type": "stream",
          "name": "stdout",
          "text": [
            "['/content/data/cat_and_dog/train/dog01.png', '/content/data/cat_and_dog/train/dog02.png', '/content/data/cat_and_dog/train/dog03.png', '/content/data/cat_and_dog/train/dog04.png', '/content/data/cat_and_dog/train/dog10.png', '/content/data/cat_and_dog/train/cat01.png', '/content/data/cat_and_dog/train/cat02.png', '/content/data/cat_and_dog/train/dog08.png', '/content/data/cat_and_dog/train/dog09.png', '/content/data/cat_and_dog/train/cat03.png', '/content/data/cat_and_dog/train/cat04.png', '/content/data/cat_and_dog/train/cat05.png', '/content/data/cat_and_dog/train/dog05.png', '/content/data/cat_and_dog/train/dog06.png', '/content/data/cat_and_dog/train/dog07.png', '/content/data/cat_and_dog/train/cat06.png', '/content/data/cat_and_dog/train/cat07.png', '/content/data/cat_and_dog/train/cat08.png', '/content/data/cat_and_dog/train/cat09.png', '/content/data/cat_and_dog/train/cat10.png']\n",
            "[1, 1, 1, 1, 1, 0, 0, 1, 1, 0, 0, 0, 1, 1, 1, 0, 0, 0, 0, 0]\n",
            "['/content/data/cat_and_dog/validation/cat14.png', '/content/data/cat_and_dog/validation/cat15.png', '/content/data/cat_and_dog/validation/dog11.png', '/content/data/cat_and_dog/validation/dog14.png', '/content/data/cat_and_dog/validation/dog15.png', '/content/data/cat_and_dog/validation/dog12.png', '/content/data/cat_and_dog/validation/dog13.png', '/content/data/cat_and_dog/validation/cat11.png', '/content/data/cat_and_dog/validation/cat12.png', '/content/data/cat_and_dog/validation/cat13.png']\n",
            "[0, 0, 1, 1, 1, 1, 1, 0, 0, 0]\n"
          ]
        }
      ]
    },
    {
      "cell_type": "markdown",
      "source": [
        "- list comprehension을 이용한 방법"
      ],
      "metadata": {
        "id": "Z0TbKmGPYVzG"
      }
    },
    {
      "cell_type": "code",
      "source": [
        "label_map={'cat':0,'dog':1} # label_map은 고양이(cat)는 0, 강아지(dog)는 1로 매핑하는 딕셔너리\n",
        "train_label=[label_map[(path.split(\"/\")[-1])[:3]] for path in train_data]\n",
        "validation_label=[label_map[(path.split(\"/\")[-1])[:3]] for path in validation_data]\n",
        "print(train_label)\n",
        "print(validation_label)"
      ],
      "metadata": {
        "colab": {
          "base_uri": "https://localhost:8080/"
        },
        "outputId": "4a5b6f16-e2a8-4b29-de9f-579bd2036385",
        "id": "b-d4pqlzOs2a"
      },
      "execution_count": null,
      "outputs": [
        {
          "output_type": "stream",
          "name": "stdout",
          "text": [
            "[1, 1, 1, 1, 1, 0, 0, 1, 1, 0, 0, 0, 1, 1, 1, 0, 0, 0, 0, 0]\n",
            "[0, 0, 1, 1, 1, 1, 1, 0, 0, 0]\n"
          ]
        }
      ]
    },
    {
      "cell_type": "markdown",
      "source": [
        "3번 정답"
      ],
      "metadata": {
        "id": "AdzvGudtaGgs"
      }
    },
    {
      "cell_type": "markdown",
      "source": [
        "- for문을 이용한 방법"
      ],
      "metadata": {
        "id": "kqLlERCedpjY"
      }
    },
    {
      "cell_type": "code",
      "source": [
        "train_data_dictionary={}\n",
        "validation_data_dictionary={}\n",
        "for data,label in zip(train_data,train_label):\n",
        "  train_data_dictionary[data]=label\n",
        "for data,label in zip(validation_data,validation_label):\n",
        "  validation_data_dictionary[data]=label\n",
        "print(train_data_dictionary)\n",
        "print(validation_data_dictionary)"
      ],
      "metadata": {
        "id": "_PMkn_9taJmH",
        "colab": {
          "base_uri": "https://localhost:8080/"
        },
        "outputId": "6cdc65f9-396c-4a06-edfa-0c24cf23bb68"
      },
      "execution_count": null,
      "outputs": [
        {
          "output_type": "stream",
          "name": "stdout",
          "text": [
            "{'/content/data/cat_and_dog/train/dog01.png': 1, '/content/data/cat_and_dog/train/dog02.png': 1, '/content/data/cat_and_dog/train/dog03.png': 1, '/content/data/cat_and_dog/train/dog04.png': 1, '/content/data/cat_and_dog/train/dog10.png': 1, '/content/data/cat_and_dog/train/cat01.png': 0, '/content/data/cat_and_dog/train/cat02.png': 0, '/content/data/cat_and_dog/train/dog08.png': 1, '/content/data/cat_and_dog/train/dog09.png': 1, '/content/data/cat_and_dog/train/cat03.png': 0, '/content/data/cat_and_dog/train/cat04.png': 0, '/content/data/cat_and_dog/train/cat05.png': 0, '/content/data/cat_and_dog/train/dog05.png': 1, '/content/data/cat_and_dog/train/dog06.png': 1, '/content/data/cat_and_dog/train/dog07.png': 1, '/content/data/cat_and_dog/train/cat06.png': 0, '/content/data/cat_and_dog/train/cat07.png': 0, '/content/data/cat_and_dog/train/cat08.png': 0, '/content/data/cat_and_dog/train/cat09.png': 0, '/content/data/cat_and_dog/train/cat10.png': 0}\n",
            "{'/content/data/cat_and_dog/validation/cat14.png': 0, '/content/data/cat_and_dog/validation/cat15.png': 0, '/content/data/cat_and_dog/validation/dog11.png': 1, '/content/data/cat_and_dog/validation/dog14.png': 1, '/content/data/cat_and_dog/validation/dog15.png': 1, '/content/data/cat_and_dog/validation/dog12.png': 1, '/content/data/cat_and_dog/validation/dog13.png': 1, '/content/data/cat_and_dog/validation/cat11.png': 0, '/content/data/cat_and_dog/validation/cat12.png': 0, '/content/data/cat_and_dog/validation/cat13.png': 0}\n"
          ]
        }
      ]
    },
    {
      "cell_type": "markdown",
      "source": [
        "- dictionary comprehension을 이용한 방법"
      ],
      "metadata": {
        "id": "5D20gguadrNo"
      }
    },
    {
      "cell_type": "code",
      "source": [
        "train_data_dictionary={data:label for data,label in zip(train_data,train_label)}\n",
        "validation_data_dictionary={data:label for data,label in zip(validation_data,validation_label)}\n",
        "print(train_data_dictionary)\n",
        "print(validation_data_dictionary)"
      ],
      "metadata": {
        "id": "IgPqJ-xMdMgv",
        "colab": {
          "base_uri": "https://localhost:8080/"
        },
        "outputId": "7eeef1f3-3f6b-4bb5-d762-8b8d45d58940"
      },
      "execution_count": null,
      "outputs": [
        {
          "output_type": "stream",
          "name": "stdout",
          "text": [
            "{'/content/data/cat_and_dog/train/dog01.png': 1, '/content/data/cat_and_dog/train/dog02.png': 1, '/content/data/cat_and_dog/train/dog03.png': 1, '/content/data/cat_and_dog/train/dog04.png': 1, '/content/data/cat_and_dog/train/dog10.png': 1, '/content/data/cat_and_dog/train/cat01.png': 0, '/content/data/cat_and_dog/train/cat02.png': 0, '/content/data/cat_and_dog/train/dog08.png': 1, '/content/data/cat_and_dog/train/dog09.png': 1, '/content/data/cat_and_dog/train/cat03.png': 0, '/content/data/cat_and_dog/train/cat04.png': 0, '/content/data/cat_and_dog/train/cat05.png': 0, '/content/data/cat_and_dog/train/dog05.png': 1, '/content/data/cat_and_dog/train/dog06.png': 1, '/content/data/cat_and_dog/train/dog07.png': 1, '/content/data/cat_and_dog/train/cat06.png': 0, '/content/data/cat_and_dog/train/cat07.png': 0, '/content/data/cat_and_dog/train/cat08.png': 0, '/content/data/cat_and_dog/train/cat09.png': 0, '/content/data/cat_and_dog/train/cat10.png': 0}\n",
            "{'/content/data/cat_and_dog/validation/cat14.png': 0, '/content/data/cat_and_dog/validation/cat15.png': 0, '/content/data/cat_and_dog/validation/dog11.png': 1, '/content/data/cat_and_dog/validation/dog14.png': 1, '/content/data/cat_and_dog/validation/dog15.png': 1, '/content/data/cat_and_dog/validation/dog12.png': 1, '/content/data/cat_and_dog/validation/dog13.png': 1, '/content/data/cat_and_dog/validation/cat11.png': 0, '/content/data/cat_and_dog/validation/cat12.png': 0, '/content/data/cat_and_dog/validation/cat13.png': 0}\n"
          ]
        }
      ]
    },
    {
      "cell_type": "markdown",
      "source": [
        "# **0920 실습 예정**\n",
        "- Function (함수)\n",
        "- Class (클래스)\n",
        "- Numpy 알아보기\n",
        "- 시각화 라이브러리 Matplotlib 알아보기"
      ],
      "metadata": {
        "id": "pIK9DJifxiXS"
      }
    }
  ]
}